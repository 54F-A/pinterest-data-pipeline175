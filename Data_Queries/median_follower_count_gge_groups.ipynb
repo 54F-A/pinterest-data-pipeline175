{
 "cells": [
  {
   "cell_type": "markdown",
   "metadata": {
    "application/vnd.databricks.v1+cell": {
     "cellMetadata": {},
     "inputWidgets": {},
     "nuid": "b795c759-bebd-4688-9ab2-5a3f468b898e",
     "showTitle": false,
     "title": ""
    }
   },
   "source": [
    "Find the median follower count of users that have joined between 2015 and 2020, based on which age group they are part of."
   ]
  },
  {
   "cell_type": "code",
   "execution_count": 0,
   "metadata": {
    "application/vnd.databricks.v1+cell": {
     "cellMetadata": {
      "byteLimit": 2048000,
      "rowLimit": 10000
     },
     "inputWidgets": {},
     "nuid": "6b9d1d84-c910-486a-8484-145e1310abe1",
     "showTitle": false,
     "title": ""
    }
   },
   "outputs": [],
   "source": [
    "%run \"/Users/sarfaraj_ahmed@outlook.com/Clean\""
   ]
  },
  {
   "cell_type": "code",
   "execution_count": 0,
   "metadata": {
    "application/vnd.databricks.v1+cell": {
     "cellMetadata": {
      "byteLimit": 2048000,
      "rowLimit": 10000
     },
     "inputWidgets": {},
     "nuid": "863b2bb7-fb65-4518-b984-b46f133d419d",
     "showTitle": false,
     "title": ""
    }
   },
   "outputs": [],
   "source": [
    "df_pin.createOrReplaceTempView(\"pin\")\n",
    "df_geo.createOrReplaceTempView(\"geo\")\n",
    "df_user.createOrReplaceTempView(\"user\")"
   ]
  },
  {
   "cell_type": "code",
   "execution_count": 0,
   "metadata": {
    "application/vnd.databricks.v1+cell": {
     "cellMetadata": {
      "byteLimit": 2048000,
      "implicitDf": true,
      "rowLimit": 10000
     },
     "inputWidgets": {},
     "nuid": "96148dee-0800-4b2a-85ff-d96705074d50",
     "showTitle": false,
     "title": ""
    }
   },
   "outputs": [],
   "source": [
    "%sql\n",
    "CREATE OR REPLACE TEMP VIEW users_joined_2015_2020 AS\n",
    "SELECT\n",
    "  u.ind,\n",
    "  EXTRACT(YEAR FROM u.date_joined) AS post_year,\n",
    "  u.age,\n",
    "  p.follower_count\n",
    "FROM\n",
    "  user u\n",
    "INNER JOIN \n",
    "  pin p\n",
    "ON\n",
    "  u.ind = p.ind\n",
    "WHERE\n",
    "  EXTRACT(YEAR FROM u.date_joined) BETWEEN 2015 AND 2020\n",
    "  AND\n",
    "  p.follower_count IS NOT NULL \n",
    "  AND \n",
    "  p.follower_count != 0;"
   ]
  },
  {
   "cell_type": "code",
   "execution_count": 0,
   "metadata": {
    "application/vnd.databricks.v1+cell": {
     "cellMetadata": {
      "byteLimit": 2048000,
      "implicitDf": true,
      "rowLimit": 10000
     },
     "inputWidgets": {},
     "nuid": "43f3478a-0885-4399-982f-fc92bb5e1470",
     "showTitle": false,
     "title": ""
    }
   },
   "outputs": [],
   "source": [
    "%sql\n",
    "CREATE OR REPLACE TEMP VIEW age_groups_users AS\n",
    "SELECT\n",
    "  ind,\n",
    "  post_year,\n",
    "  follower_count,\n",
    "  CASE\n",
    "    WHEN age BETWEEN 18 AND 24 THEN '18-24'\n",
    "    WHEN age BETWEEN 25 AND 35 THEN '25-35'\n",
    "    WHEN age BETWEEN 36 AND 50 THEN '36-50'\n",
    "    WHEN age > 50 THEN '+50'\n",
    "  END AS age_group\n",
    "FROM\n",
    "  users_joined_2015_2020;"
   ]
  },
  {
   "cell_type": "code",
   "execution_count": 0,
   "metadata": {
    "application/vnd.databricks.v1+cell": {
     "cellMetadata": {
      "byteLimit": 2048000,
      "implicitDf": true,
      "rowLimit": 10000
     },
     "inputWidgets": {},
     "nuid": "b50d36c7-b793-4bc1-ba30-7a0e93dc4fcf",
     "showTitle": false,
     "title": ""
    }
   },
   "outputs": [],
   "source": [
    "%sql\n",
    "CREATE OR REPLACE TEMP VIEW ranked_followers AS\n",
    "SELECT\n",
    "  age_group,\n",
    "  follower_count,\n",
    "  post_year,\n",
    "  ROW_NUMBER() OVER (PARTITION BY age_group ORDER BY follower_count) AS row_num,\n",
    "  COUNT(*) OVER (PARTITION BY age_group) AS total_count\n",
    "FROM\n",
    "  age_groups_users;"
   ]
  },
  {
   "cell_type": "code",
   "execution_count": 0,
   "metadata": {
    "application/vnd.databricks.v1+cell": {
     "cellMetadata": {
      "byteLimit": 2048000,
      "implicitDf": true,
      "rowLimit": 10000
     },
     "inputWidgets": {},
     "nuid": "fe60a20c-58bc-40ab-b6e0-8733f6841601",
     "showTitle": false,
     "title": ""
    }
   },
   "outputs": [],
   "source": [
    "%sql\n",
    "SELECT\n",
    "  age_group,\n",
    "  AVG(post_year) AS post_year,\n",
    "  CASE\n",
    "        WHEN total_count % 2 != 0 THEN MAX(follower_count)\n",
    "        ELSE AVG(follower_count)\n",
    "    END AS median_follower_count\n",
    "FROM\n",
    "  ranked_followers\n",
    "WHERE \n",
    "  row_num IN ((total_count + 1) / 2, total_count / 2 + 1)\n",
    "GROUP BY \n",
    "  age_group, total_count\n",
    "ORDER BY\n",
    "  CASE\n",
    "    WHEN age_group = '18-24' THEN 1\n",
    "    WHEN age_group = '25-35' THEN 2\n",
    "    WHEN age_group = '36-50' THEN 3\n",
    "    WHEN age_group = '+50' THEN 4\n",
    "  END;"
   ]
  }
 ],
 "metadata": {
  "application/vnd.databricks.v1+notebook": {
   "dashboards": [],
   "environmentMetadata": null,
   "language": "python",
   "notebookMetadata": {
    "mostRecentlyExecutedCommandWithImplicitDF": {
     "commandId": 4496218551396929,
     "dataframes": [
      "_sqldf"
     ]
    },
    "pythonIndentUnit": 4
   },
   "notebookName": "Median Follower Count Age Groups",
   "widgets": {}
  }
 },
 "nbformat": 4,
 "nbformat_minor": 0
}
