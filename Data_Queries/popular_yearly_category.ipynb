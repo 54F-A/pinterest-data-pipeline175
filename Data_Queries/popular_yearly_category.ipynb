{
 "cells": [
  {
   "cell_type": "markdown",
   "metadata": {
    "application/vnd.databricks.v1+cell": {
     "cellMetadata": {},
     "inputWidgets": {},
     "nuid": "a5a642bd-c05b-44cb-8216-fb3568bc3739",
     "showTitle": false,
     "title": ""
    }
   },
   "source": [
    "Find how many posts each category had between 2018 and 2022."
   ]
  },
  {
   "cell_type": "code",
   "execution_count": 0,
   "metadata": {
    "application/vnd.databricks.v1+cell": {
     "cellMetadata": {
      "byteLimit": 2048000,
      "rowLimit": 10000
     },
     "inputWidgets": {},
     "nuid": "4c7e4de7-f47b-4eac-8428-54a8413183ec",
     "showTitle": false,
     "title": ""
    }
   },
   "outputs": [],
   "source": [
    "%run \"/Users/sarfaraj_ahmed@outlook.com/Clean\""
   ]
  },
  {
   "cell_type": "code",
   "execution_count": 0,
   "metadata": {
    "application/vnd.databricks.v1+cell": {
     "cellMetadata": {
      "byteLimit": 2048000,
      "rowLimit": 10000
     },
     "inputWidgets": {},
     "nuid": "57593813-6e14-404b-bf4c-64cb6e6f2785",
     "showTitle": false,
     "title": ""
    }
   },
   "outputs": [],
   "source": [
    "df_pin.createOrReplaceTempView(\"pin\")\n",
    "df_geo.createOrReplaceTempView(\"geo\")"
   ]
  },
  {
   "cell_type": "code",
   "execution_count": 0,
   "metadata": {
    "application/vnd.databricks.v1+cell": {
     "cellMetadata": {
      "byteLimit": 2048000,
      "implicitDf": true,
      "rowLimit": 10000
     },
     "inputWidgets": {},
     "nuid": "a8da9fec-8bd9-489c-9251-4bab31756dca",
     "showTitle": false,
     "title": ""
    }
   },
   "outputs": [],
   "source": [
    "%sql\n",
    "CREATE OR REPLACE TEMP VIEW pin_geo_year AS \n",
    "SELECT\n",
    "  p.category,\n",
    "  YEAR(g.timestamp) AS post_year\n",
    "FROM\n",
    "  pin p\n",
    "INNER JOIN\n",
    "  geo g\n",
    "ON\n",
    "  p.ind = g.ind\n",
    "WHERE\n",
    "  YEAR(g.timestamp) BETWEEN 2018 AND 2022;  "
   ]
  },
  {
   "cell_type": "code",
   "execution_count": 0,
   "metadata": {
    "application/vnd.databricks.v1+cell": {
     "cellMetadata": {
      "byteLimit": 2048000,
      "implicitDf": true,
      "rowLimit": 10000
     },
     "inputWidgets": {},
     "nuid": "fea6aa90-78aa-43a5-b29a-fe16916ffd49",
     "showTitle": false,
     "title": ""
    }
   },
   "outputs": [],
   "source": [
    "%sql\n",
    "SELECT\n",
    "  post_year,\n",
    "  category,\n",
    "  COUNT(*) AS category_count\n",
    "FROM  \n",
    "  pin_geo_year\n",
    "GROUP BY\n",
    "  post_year, \n",
    "  category\n",
    "ORDER BY \n",
    "  post_year;"
   ]
  }
 ],
 "metadata": {
  "application/vnd.databricks.v1+notebook": {
   "dashboards": [],
   "environmentMetadata": null,
   "language": "python",
   "notebookMetadata": {
    "mostRecentlyExecutedCommandWithImplicitDF": {
     "commandId": 4373899177780949,
     "dataframes": [
      "_sqldf"
     ]
    },
    "pythonIndentUnit": 4
   },
   "notebookName": "Popular Yearly Category",
   "widgets": {}
  }
 },
 "nbformat": 4,
 "nbformat_minor": 0
}
