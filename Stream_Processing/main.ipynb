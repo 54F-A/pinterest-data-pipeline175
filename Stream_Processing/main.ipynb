{
 "cells": [
  {
   "cell_type": "code",
   "execution_count": 0,
   "metadata": {
    "application/vnd.databricks.v1+cell": {
     "cellMetadata": {
      "byteLimit": 2048000,
      "rowLimit": 10000
     },
     "inputWidgets": {},
     "nuid": "024e1e4a-65e3-4a68-802e-13993ecb01b0",
     "showTitle": false,
     "title": ""
    }
   },
   "outputs": [],
   "source": [
    "%run \n",
    "\"/Users/sarfaraj_ahmed@outlook.com/Stream Processing/Read Kinesis Data\""
   ]
  },
  {
   "cell_type": "code",
   "execution_count": 0,
   "metadata": {
    "application/vnd.databricks.v1+cell": {
     "cellMetadata": {
      "byteLimit": 2048000,
      "rowLimit": 10000
     },
     "inputWidgets": {},
     "nuid": "8bd6bc9b-bd02-4302-87eb-16fbf0d25d47",
     "showTitle": false,
     "title": ""
    }
   },
   "outputs": [],
   "source": [
    "%run \n",
    "\"/Users/sarfaraj_ahmed@outlook.com/Stream Processing/Write Pin Stream\""
   ]
  },
  {
   "cell_type": "code",
   "execution_count": 0,
   "metadata": {
    "application/vnd.databricks.v1+cell": {
     "cellMetadata": {},
     "inputWidgets": {},
     "nuid": "f1a1cc25-b31b-43f6-a77c-67e7f94e7106",
     "showTitle": false,
     "title": ""
    }
   },
   "outputs": [],
   "source": [
    "%run \n",
    "\"/Users/sarfaraj_ahmed@outlook.com/Stream Processing/Write Geo Stream\""
   ]
  },
  {
   "cell_type": "code",
   "execution_count": 0,
   "metadata": {
    "application/vnd.databricks.v1+cell": {
     "cellMetadata": {},
     "inputWidgets": {},
     "nuid": "063f6e98-2fab-4760-9bac-8cf4a120bf42",
     "showTitle": false,
     "title": ""
    }
   },
   "outputs": [],
   "source": [
    "%run \n",
    "\"/Users/sarfaraj_ahmed@outlook.com/Stream Processing/Write User Stream\""
   ]
  }
 ],
 "metadata": {
  "application/vnd.databricks.v1+notebook": {
   "dashboards": [],
   "environmentMetadata": null,
   "language": "python",
   "notebookMetadata": {
    "mostRecentlyExecutedCommandWithImplicitDF": {
     "commandId": 1291078187089861,
     "dataframes": [
      "_sqldf"
     ]
    },
    "pythonIndentUnit": 4
   },
   "notebookName": "Main",
   "widgets": {}
  }
 },
 "nbformat": 4,
 "nbformat_minor": 0
}
