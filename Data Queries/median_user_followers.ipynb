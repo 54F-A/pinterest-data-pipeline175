{
 "cells": [
  {
   "cell_type": "markdown",
   "metadata": {
    "application/vnd.databricks.v1+cell": {
     "cellMetadata": {},
     "inputWidgets": {},
     "nuid": "0dc722dc-73f9-49ca-b279-7aed1c7fb3ef",
     "showTitle": false,
     "title": ""
    }
   },
   "source": [
    "Find the median follower count of users that have joined between 2015 and 2020."
   ]
  },
  {
   "cell_type": "code",
   "execution_count": 0,
   "metadata": {
    "application/vnd.databricks.v1+cell": {
     "cellMetadata": {
      "byteLimit": 2048000,
      "rowLimit": 10000
     },
     "inputWidgets": {},
     "nuid": "bc09effe-7397-4452-a4db-812f71277eb6",
     "showTitle": false,
     "title": ""
    }
   },
   "outputs": [],
   "source": [
    "%run \"/Users/sarfaraj_ahmed@outlook.com/Clean\""
   ]
  },
  {
   "cell_type": "code",
   "execution_count": 0,
   "metadata": {
    "application/vnd.databricks.v1+cell": {
     "cellMetadata": {
      "byteLimit": 2048000,
      "rowLimit": 10000
     },
     "inputWidgets": {},
     "nuid": "124acdd6-5e4b-421d-b7ab-eda22ee0d065",
     "showTitle": false,
     "title": ""
    }
   },
   "outputs": [],
   "source": [
    "df_user.createOrReplaceTempView(\"user\")\n",
    "df_pin.createOrReplaceTempView(\"pin\")"
   ]
  },
  {
   "cell_type": "code",
   "execution_count": 0,
   "metadata": {
    "application/vnd.databricks.v1+cell": {
     "cellMetadata": {
      "byteLimit": 2048000,
      "implicitDf": true,
      "rowLimit": 10000
     },
     "inputWidgets": {},
     "nuid": "a564ba74-b81b-43e7-a6f8-326085ad49fc",
     "showTitle": false,
     "title": ""
    }
   },
   "outputs": [],
   "source": [
    "%sql\n",
    "CREATE OR REPLACE TEMP VIEW users_joined AS\n",
    "SELECT\n",
    "  EXTRACT(YEAR FROM u.date_joined) AS post_year,\n",
    "  COUNT(*) AS number_users_joined,\n",
    "  p.follower_count\n",
    "FROM\n",
    "  user u\n",
    "INNER JOIN \n",
    "  pin p\n",
    "ON\n",
    "  u.ind = p.ind\n",
    "WHERE\n",
    "  EXTRACT(YEAR FROM u.date_joined) BETWEEN 2015 AND 2020\n",
    "  AND\n",
    "  p.follower_count IS NOT NULL \n",
    "  AND \n",
    "  p.follower_count != 0\n",
    "GROUP BY\n",
    "  EXTRACT(YEAR FROM u.date_joined), p.follower_count;"
   ]
  },
  {
   "cell_type": "code",
   "execution_count": 0,
   "metadata": {
    "application/vnd.databricks.v1+cell": {
     "cellMetadata": {
      "byteLimit": 2048000,
      "implicitDf": true,
      "rowLimit": 10000
     },
     "inputWidgets": {},
     "nuid": "bc547b4e-c2cb-4fe7-9a0a-8ed75be9d0d8",
     "showTitle": false,
     "title": ""
    }
   },
   "outputs": [],
   "source": [
    "%sql\n",
    "CREATE OR REPLACE TEMP VIEW users_and_followers AS\n",
    "SELECT\n",
    "  post_year,\n",
    "  follower_count,\n",
    "  COUNT(*) OVER (PARTITION BY post_year) AS total_count,\n",
    "  ROW_NUMBER() OVER (PARTITION BY post_year ORDER BY follower_count) AS row_num\n",
    "FROM\n",
    "  users_joined\n",
    "GROUP BY\n",
    "  post_year, follower_count;"
   ]
  },
  {
   "cell_type": "code",
   "execution_count": 0,
   "metadata": {
    "application/vnd.databricks.v1+cell": {
     "cellMetadata": {
      "byteLimit": 2048000,
      "implicitDf": true,
      "rowLimit": 10000
     },
     "inputWidgets": {},
     "nuid": "d13f4b09-40de-42bf-9435-caa3bd99f45c",
     "showTitle": false,
     "title": ""
    }
   },
   "outputs": [],
   "source": [
    "%sql\n",
    "SELECT\n",
    "  post_year,\n",
    "  CASE\n",
    "        WHEN total_count % 2 != 0 THEN MAX(follower_count)\n",
    "        ELSE AVG(follower_count)\n",
    "    END AS median_follower_count\n",
    "FROM\n",
    "  users_and_followers\n",
    "WHERE \n",
    "    row_num IN ((total_count + 1) / 2, total_count / 2 + 1)\n",
    "GROUP BY\n",
    "  post_year, total_count\n",
    "ORDER BY\n",
    "  post_year ASC;"
   ]
  }
 ],
 "metadata": {
  "application/vnd.databricks.v1+notebook": {
   "dashboards": [],
   "environmentMetadata": null,
   "language": "python",
   "notebookMetadata": {
    "mostRecentlyExecutedCommandWithImplicitDF": {
     "commandId": 4496218551396916,
     "dataframes": [
      "_sqldf"
     ]
    },
    "pythonIndentUnit": 4
   },
   "notebookName": "Median User Followers",
   "widgets": {}
  }
 },
 "nbformat": 4,
 "nbformat_minor": 0
}
