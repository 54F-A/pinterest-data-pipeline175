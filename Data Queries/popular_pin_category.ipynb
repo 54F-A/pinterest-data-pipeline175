{
 "cells": [
  {
   "cell_type": "markdown",
   "metadata": {
    "application/vnd.databricks.v1+cell": {
     "cellMetadata": {},
     "inputWidgets": {},
     "nuid": "270953b0-7373-46b5-836e-a34c9329719e",
     "showTitle": false,
     "title": ""
    }
   },
   "source": [
    "Find the most popular Pinterest category people post to based on their country."
   ]
  },
  {
   "cell_type": "code",
   "execution_count": 0,
   "metadata": {
    "application/vnd.databricks.v1+cell": {
     "cellMetadata": {
      "byteLimit": 2048000,
      "rowLimit": 10000
     },
     "inputWidgets": {},
     "nuid": "3e25780a-fa50-4d1a-a9ca-a0d2eee8459a",
     "showTitle": false,
     "title": ""
    }
   },
   "outputs": [],
   "source": [
    "%run \"/Users/sarfaraj_ahmed@outlook.com/Clean\""
   ]
  },
  {
   "cell_type": "code",
   "execution_count": 0,
   "metadata": {
    "application/vnd.databricks.v1+cell": {
     "cellMetadata": {
      "byteLimit": 2048000,
      "rowLimit": 10000
     },
     "inputWidgets": {},
     "nuid": "b4a70ad2-4976-4a2a-82e7-65d8ac8826e8",
     "showTitle": false,
     "title": ""
    }
   },
   "outputs": [],
   "source": [
    "df_pin.createOrReplaceTempView(\"pin\")\n",
    "df_geo.createOrReplaceTempView(\"geo\")"
   ]
  },
  {
   "cell_type": "code",
   "execution_count": 0,
   "metadata": {
    "application/vnd.databricks.v1+cell": {
     "cellMetadata": {
      "byteLimit": 2048000,
      "implicitDf": true,
      "rowLimit": 10000
     },
     "inputWidgets": {},
     "nuid": "294324ba-395b-415f-80de-bf2f05126939",
     "showTitle": false,
     "title": ""
    }
   },
   "outputs": [],
   "source": [
    "%sql\n",
    "SELECT\n",
    "  g.country,\n",
    "  p.category,\n",
    "  COUNT(*) AS category_count\n",
    "FROM\n",
    "  pin p\n",
    "INNER JOIN\n",
    "  geo g\n",
    "ON\n",
    "  pin.ind = geo.ind\n",
    "GROUP BY\n",
    "  geo.country, \n",
    "  pin.category\n",
    "ORDER BY\n",
    "  category_count DESC;"
   ]
  }
 ],
 "metadata": {
  "application/vnd.databricks.v1+notebook": {
   "dashboards": [],
   "environmentMetadata": null,
   "language": "python",
   "notebookMetadata": {
    "mostRecentlyExecutedCommandWithImplicitDF": {
     "commandId": 4373899177780937,
     "dataframes": [
      "_sqldf"
     ]
    },
    "pythonIndentUnit": 4
   },
   "notebookName": "Popular Pin Category",
   "widgets": {}
  }
 },
 "nbformat": 4,
 "nbformat_minor": 0
}
