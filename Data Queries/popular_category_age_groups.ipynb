{
 "cells": [
  {
   "cell_type": "markdown",
   "metadata": {
    "application/vnd.databricks.v1+cell": {
     "cellMetadata": {},
     "inputWidgets": {},
     "nuid": "36e5dbb2-8d21-4b7d-8b31-49193c59d834",
     "showTitle": false,
     "title": ""
    }
   },
   "source": [
    "What is the most popular category people post to based on the following age groups:\n",
    "\n",
    "- 18-24\n",
    "- 25-35\n",
    "- 36-50\n",
    "- +50"
   ]
  },
  {
   "cell_type": "code",
   "execution_count": 0,
   "metadata": {
    "application/vnd.databricks.v1+cell": {
     "cellMetadata": {
      "byteLimit": 2048000,
      "rowLimit": 10000
     },
     "inputWidgets": {},
     "nuid": "03e581eb-93fb-4f82-9d27-28158fe1486d",
     "showTitle": false,
     "title": ""
    }
   },
   "outputs": [],
   "source": [
    "%run \"/Users/sarfaraj_ahmed@outlook.com/Clean\""
   ]
  },
  {
   "cell_type": "code",
   "execution_count": 0,
   "metadata": {
    "application/vnd.databricks.v1+cell": {
     "cellMetadata": {
      "byteLimit": 2048000,
      "rowLimit": 10000
     },
     "inputWidgets": {},
     "nuid": "fa314984-7cfd-401f-9bab-8e7aa3c9d866",
     "showTitle": false,
     "title": ""
    }
   },
   "outputs": [],
   "source": [
    "df_pin.createOrReplaceTempView(\"pin\")\n",
    "df_user.createOrReplaceTempView(\"user\")"
   ]
  },
  {
   "cell_type": "code",
   "execution_count": 0,
   "metadata": {
    "application/vnd.databricks.v1+cell": {
     "cellMetadata": {
      "byteLimit": 2048000,
      "implicitDf": true,
      "rowLimit": 10000
     },
     "inputWidgets": {},
     "nuid": "c44e2ab3-3de7-46fc-b20e-6d0611bc6a49",
     "showTitle": false,
     "title": ""
    }
   },
   "outputs": [],
   "source": [
    "%sql\n",
    "CREATE OR REPLACE TEMP VIEW categories_per_age AS\n",
    "SELECT \n",
    "  p.category,\n",
    "  CASE\n",
    "    WHEN u.age BETWEEN 18 AND 24 THEN '18-24'\n",
    "    WHEN u.age BETWEEN 25 AND 35 THEN '25-35'\n",
    "    WHEN u.age BETWEEN 36 AND 50 THEN '36-50'\n",
    "    WHEN u.age > 50 THEN '+50'\n",
    "  END AS age_group\n",
    "FROM\n",
    "  pin p\n",
    "INNER JOIN\n",
    "  user u\n",
    "ON\n",
    "  p.ind = u.ind;"
   ]
  },
  {
   "cell_type": "code",
   "execution_count": 0,
   "metadata": {
    "application/vnd.databricks.v1+cell": {
     "cellMetadata": {
      "byteLimit": 2048000,
      "implicitDf": true,
      "rowLimit": 10000
     },
     "inputWidgets": {},
     "nuid": "21ca4b68-ceab-4af1-8fc4-f67672822e3f",
     "showTitle": false,
     "title": ""
    }
   },
   "outputs": [],
   "source": [
    "%sql\n",
    "CREATE OR REPLACE TEMP VIEW category_count_age_groups AS\n",
    "SELECT\n",
    "  age_group,\n",
    "  category,\n",
    "  COUNT(*) AS category_count\n",
    "FROM\n",
    "  categories_per_age\n",
    "GROUP BY\n",
    "  age_group, \n",
    "  category;"
   ]
  },
  {
   "cell_type": "code",
   "execution_count": 0,
   "metadata": {
    "application/vnd.databricks.v1+cell": {
     "cellMetadata": {
      "byteLimit": 2048000,
      "implicitDf": true,
      "rowLimit": 10000
     },
     "inputWidgets": {},
     "nuid": "b4aa4002-c251-456d-87b0-ffb190797f01",
     "showTitle": false,
     "title": ""
    }
   },
   "outputs": [],
   "source": [
    "%sql\n",
    "CREATE OR REPLACE TEMP VIEW category_count_rank AS\n",
    "SELECT\n",
    "  age_group,\n",
    "  category,\n",
    "  category_count,\n",
    "  ROW_NUMBER() OVER (PARTITION BY age_group ORDER BY category_count DESC) AS rank\n",
    "FROM\n",
    "  category_count_age_groups;"
   ]
  },
  {
   "cell_type": "code",
   "execution_count": 0,
   "metadata": {
    "application/vnd.databricks.v1+cell": {
     "cellMetadata": {
      "byteLimit": 2048000,
      "implicitDf": true,
      "rowLimit": 10000
     },
     "inputWidgets": {},
     "nuid": "aae6b514-ea7b-4b6e-87b4-61934a2c4ae0",
     "showTitle": false,
     "title": ""
    }
   },
   "outputs": [],
   "source": [
    "%sql\n",
    "SELECT \n",
    "  age_group,\n",
    "  category,\n",
    "  category_count\n",
    "FROM\n",
    "  category_count_rank\n",
    "WHERE\n",
    "  rank = 1\n",
    "ORDER BY\n",
    "  CASE\n",
    "    WHEN age_group = '18-24' THEN 1\n",
    "    WHEN age_group = '25-35' THEN 2\n",
    "    WHEN age_group = '36-50' THEN 3\n",
    "    WHEN age_group = '+50' THEN 4\n",
    "  END;"
   ]
  }
 ],
 "metadata": {
  "application/vnd.databricks.v1+notebook": {
   "dashboards": [],
   "environmentMetadata": null,
   "language": "python",
   "notebookMetadata": {
    "mostRecentlyExecutedCommandWithImplicitDF": {
     "commandId": 4373899177780996,
     "dataframes": [
      "_sqldf"
     ]
    },
    "pythonIndentUnit": 4
   },
   "notebookName": "Popular Category Age Groups",
   "widgets": {}
  }
 },
 "nbformat": 4,
 "nbformat_minor": 0
}
