{
 "cells": [
  {
   "cell_type": "markdown",
   "metadata": {
    "application/vnd.databricks.v1+cell": {
     "cellMetadata": {},
     "inputWidgets": {},
     "nuid": "9a09c2b8-bbcd-4bfe-8155-7bbf7bb0db9e",
     "showTitle": false,
     "title": ""
    }
   },
   "source": [
    "What is the median follower count for users in the following age groups:\n",
    "\n",
    "- 18-24\n",
    "- 25-35\n",
    "- 36-50\n",
    "- +50"
   ]
  },
  {
   "cell_type": "code",
   "execution_count": 0,
   "metadata": {
    "application/vnd.databricks.v1+cell": {
     "cellMetadata": {
      "byteLimit": 2048000,
      "rowLimit": 10000
     },
     "inputWidgets": {},
     "nuid": "a750ae5a-f79e-4bf0-88b1-5712c5f12a3b",
     "showTitle": false,
     "title": ""
    }
   },
   "outputs": [],
   "source": [
    "%run \"/Users/sarfaraj_ahmed@outlook.com/Clean\""
   ]
  },
  {
   "cell_type": "code",
   "execution_count": 0,
   "metadata": {
    "application/vnd.databricks.v1+cell": {
     "cellMetadata": {
      "byteLimit": 2048000,
      "rowLimit": 10000
     },
     "inputWidgets": {},
     "nuid": "555df846-005a-4fa8-a59d-e44ec1d4a0f4",
     "showTitle": false,
     "title": ""
    }
   },
   "outputs": [],
   "source": [
    "df_pin.createOrReplaceTempView(\"pin\")\n",
    "df_user.createOrReplaceTempView(\"user\")"
   ]
  },
  {
   "cell_type": "code",
   "execution_count": 0,
   "metadata": {
    "application/vnd.databricks.v1+cell": {
     "cellMetadata": {
      "byteLimit": 2048000,
      "implicitDf": true,
      "rowLimit": 10000
     },
     "inputWidgets": {},
     "nuid": "e51ed508-94b4-4422-9351-fa4eed232dbd",
     "showTitle": false,
     "title": ""
    }
   },
   "outputs": [],
   "source": [
    "%sql\n",
    "CREATE OR REPLACE TEMP VIEW follower_count_rank AS\n",
    "SELECT\n",
    "  CASE\n",
    "    WHEN u.age BETWEEN 18 AND 24 THEN '18-24'\n",
    "    WHEN u.age BETWEEN 25 AND 35 THEN '25-35'\n",
    "    WHEN u.age BETWEEN 36 AND 50 THEN '36-50'\n",
    "    WHEN u.age > 50 THEN '+50'\n",
    "  END AS age_group,\n",
    "  p.follower_count,\n",
    "  ROW_NUMBER() OVER (ORDER BY (follower_count) DESC) AS rank\n",
    "FROM \n",
    "  pin p\n",
    "INNER JOIN\n",
    "  user u\n",
    "ON \n",
    "  p.ind = u.ind\n",
    "WHERE \n",
    "  p.follower_count IS NOT NULL \n",
    "  AND \n",
    "  p.follower_count != 0;\n"
   ]
  },
  {
   "cell_type": "code",
   "execution_count": 0,
   "metadata": {
    "application/vnd.databricks.v1+cell": {
     "cellMetadata": {
      "byteLimit": 2048000,
      "implicitDf": true,
      "rowLimit": 10000
     },
     "inputWidgets": {},
     "nuid": "90f8eb2c-6023-440c-b833-31b30de62c3c",
     "showTitle": false,
     "title": ""
    }
   },
   "outputs": [],
   "source": [
    "%sql\n",
    "CREATE OR REPLACE TEMP VIEW ranked_followers AS\n",
    "SELECT\n",
    "    age_group,\n",
    "    follower_count,\n",
    "    ROW_NUMBER() OVER (PARTITION BY age_group ORDER BY follower_count) AS row_num,\n",
    "    COUNT(*) OVER (PARTITION BY age_group) AS total_count\n",
    "  FROM \n",
    "    follower_count_rank;"
   ]
  },
  {
   "cell_type": "code",
   "execution_count": 0,
   "metadata": {
    "application/vnd.databricks.v1+cell": {
     "cellMetadata": {
      "byteLimit": 2048000,
      "implicitDf": true,
      "rowLimit": 10000
     },
     "inputWidgets": {},
     "nuid": "5c345e8c-9ee5-4c4c-a599-2c28afc5837d",
     "showTitle": false,
     "title": ""
    }
   },
   "outputs": [],
   "source": [
    "%sql\n",
    "SELECT\n",
    "    age_group,\n",
    "    follower_count AS median_follower_count\n",
    "  FROM \n",
    "    ranked_followers\n",
    "  WHERE \n",
    "    row_num IN (total_count / 2, total_count / 2 + 1)\n",
    "  GROUP BY \n",
    "    age_group, follower_count\n",
    "  ORDER BY\n",
    "  CASE\n",
    "    WHEN age_group = '18-24' THEN 1\n",
    "    WHEN age_group = '25-35' THEN 2\n",
    "    WHEN age_group = '36-50' THEN 3\n",
    "    WHEN age_group = '+50' THEN 4\n",
    "  END;"
   ]
  }
 ],
 "metadata": {
  "application/vnd.databricks.v1+notebook": {
   "dashboards": [],
   "environmentMetadata": null,
   "language": "python",
   "notebookMetadata": {
    "mostRecentlyExecutedCommandWithImplicitDF": {
     "commandId": 4373899177781028,
     "dataframes": [
      "_sqldf"
     ]
    },
    "pythonIndentUnit": 4
   },
   "notebookName": "Median Follower Count",
   "widgets": {}
  }
 },
 "nbformat": 4,
 "nbformat_minor": 0
}
