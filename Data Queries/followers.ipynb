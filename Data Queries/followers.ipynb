{
 "cells": [
  {
   "cell_type": "markdown",
   "metadata": {
    "application/vnd.databricks.v1+cell": {
     "cellMetadata": {},
     "inputWidgets": {},
     "nuid": "10c21b43-6eab-4ca7-ad79-3570ac861cb5",
     "showTitle": false,
     "title": ""
    }
   },
   "source": [
    "For each country find the user with the most followers."
   ]
  },
  {
   "cell_type": "code",
   "execution_count": 0,
   "metadata": {
    "application/vnd.databricks.v1+cell": {
     "cellMetadata": {
      "byteLimit": 2048000,
      "rowLimit": 10000
     },
     "inputWidgets": {},
     "nuid": "9f614e9e-e978-4e5b-8e0d-adaf3d8fc5fb",
     "showTitle": false,
     "title": ""
    }
   },
   "outputs": [],
   "source": [
    "%run \"/Users/sarfaraj_ahmed@outlook.com/Clean\""
   ]
  },
  {
   "cell_type": "code",
   "execution_count": 0,
   "metadata": {
    "application/vnd.databricks.v1+cell": {
     "cellMetadata": {
      "byteLimit": 2048000,
      "rowLimit": 10000
     },
     "inputWidgets": {},
     "nuid": "6233a75b-3b0e-4b59-a2a9-5f4f9cd47e6b",
     "showTitle": false,
     "title": ""
    }
   },
   "outputs": [],
   "source": [
    "df_pin.createOrReplaceTempView(\"pin\")\n",
    "df_geo.createOrReplaceTempView(\"geo\")\n",
    "df_user.createOrReplaceTempView(\"user\")"
   ]
  },
  {
   "cell_type": "code",
   "execution_count": 0,
   "metadata": {
    "application/vnd.databricks.v1+cell": {
     "cellMetadata": {
      "byteLimit": 2048000,
      "implicitDf": true,
      "rowLimit": 10000
     },
     "inputWidgets": {},
     "nuid": "766db0df-f9d5-4ef5-9241-7f93641ab9b9",
     "showTitle": false,
     "title": ""
    }
   },
   "outputs": [],
   "source": [
    "%sql\n",
    "CREATE OR REPLACE TEMP VIEW followers_by_country AS\n",
    "SELECT\n",
    "  g.country,\n",
    "  p.poster_name,\n",
    "  p.follower_count\n",
    "FROM\n",
    "  pin p\n",
    "INNER JOIN\n",
    "  geo g\n",
    "ON\n",
    "  p.ind = g.ind;"
   ]
  },
  {
   "cell_type": "markdown",
   "metadata": {
    "application/vnd.databricks.v1+cell": {
     "cellMetadata": {},
     "inputWidgets": {},
     "nuid": "a8b6f88d-02b4-4230-b106-cd3884cd64d6",
     "showTitle": false,
     "title": ""
    }
   },
   "source": [
    "Based on the above query, find the country with the user with most followers."
   ]
  },
  {
   "cell_type": "code",
   "execution_count": 0,
   "metadata": {
    "application/vnd.databricks.v1+cell": {
     "cellMetadata": {
      "byteLimit": 2048000,
      "implicitDf": true,
      "rowLimit": 10000
     },
     "inputWidgets": {},
     "nuid": "8cc5d3b8-8a5e-4689-b248-70e645eee6dd",
     "showTitle": false,
     "title": ""
    }
   },
   "outputs": [],
   "source": [
    "%sql\n",
    "CREATE OR REPLACE TEMP VIEW ranked_users AS\n",
    "SELECT\n",
    "  country,\n",
    "  poster_name,\n",
    "  follower_count,\n",
    "  ROW_NUMBER() OVER (ORDER BY follower_count DESC) AS rank\n",
    "FROM\n",
    "  followers_by_country;"
   ]
  },
  {
   "cell_type": "code",
   "execution_count": 0,
   "metadata": {
    "application/vnd.databricks.v1+cell": {
     "cellMetadata": {
      "byteLimit": 2048000,
      "implicitDf": true,
      "rowLimit": 10000
     },
     "inputWidgets": {},
     "nuid": "256daa80-8c2e-4f64-b472-203aba4c039c",
     "showTitle": false,
     "title": ""
    }
   },
   "outputs": [],
   "source": [
    "%sql\n",
    "SELECT\n",
    "  country,\n",
    "  follower_count\n",
    "FROM\n",
    "  ranked_users\n",
    "WHERE\n",
    "  rank = 1;"
   ]
  }
 ],
 "metadata": {
  "application/vnd.databricks.v1+notebook": {
   "dashboards": [],
   "environmentMetadata": null,
   "language": "python",
   "notebookMetadata": {
    "mostRecentlyExecutedCommandWithImplicitDF": {
     "commandId": 4373899177780966,
     "dataframes": [
      "_sqldf"
     ]
    },
    "pythonIndentUnit": 4
   },
   "notebookName": "Followers",
   "widgets": {}
  }
 },
 "nbformat": 4,
 "nbformat_minor": 0
}
