{
 "cells": [
  {
   "cell_type": "markdown",
   "metadata": {
    "application/vnd.databricks.v1+cell": {
     "cellMetadata": {},
     "inputWidgets": {},
     "nuid": "270953b0-7373-46b5-836e-a34c9329719e",
     "showTitle": false,
     "title": ""
    }
   },
   "source": [
    "Find the most popular Pinterest category people post to based on their country."
   ]
  },
  {
   "cell_type": "code",
   "execution_count": 0,
   "metadata": {
    "application/vnd.databricks.v1+cell": {
     "cellMetadata": {
      "byteLimit": 2048000,
      "rowLimit": 10000
     },
     "inputWidgets": {},
     "nuid": "3e25780a-fa50-4d1a-a9ca-a0d2eee8459a",
     "showTitle": false,
     "title": ""
    }
   },
   "outputs": [],
   "source": [
    "%run \"/Users/sarfaraj_ahmed@outlook.com/Clean\""
   ]
  },
  {
   "cell_type": "code",
   "execution_count": 0,
   "metadata": {
    "application/vnd.databricks.v1+cell": {
     "cellMetadata": {
      "byteLimit": 2048000,
      "rowLimit": 10000
     },
     "inputWidgets": {},
     "nuid": "b4a70ad2-4976-4a2a-82e7-65d8ac8826e8",
     "showTitle": false,
     "title": ""
    }
   },
   "outputs": [],
   "source": [
    "df_pin.createOrReplaceTempView(\"pin\")\n",
    "df_geo.createOrReplaceTempView(\"geo\")"
   ]
  },
  {
   "cell_type": "code",
   "execution_count": 0,
   "metadata": {
    "application/vnd.databricks.v1+cell": {
     "cellMetadata": {
      "byteLimit": 2048000,
      "implicitDf": true,
      "rowLimit": 10000
     },
     "inputWidgets": {},
     "nuid": "294324ba-395b-415f-80de-bf2f05126939",
     "showTitle": false,
     "title": ""
    }
   },
   "outputs": [],
   "source": [
    "%sql\n",
    "CREATE OR REPLACE TEMP VIEW pin_geo_count AS \n",
    "SELECT\n",
    "  geo.country,\n",
    "  pin.category,\n",
    "  COUNT(*) AS category_count\n",
    "FROM\n",
    "  pin\n",
    "INNER JOIN\n",
    "  geo\n",
    "ON\n",
    "  pin.ind = geo.ind\n",
    "GROUP BY\n",
    "  geo.country, \n",
    "  pin.category;"
   ]
  },
  {
   "cell_type": "code",
   "execution_count": 0,
   "metadata": {
    "application/vnd.databricks.v1+cell": {
     "cellMetadata": {
      "byteLimit": 2048000,
      "implicitDf": true,
      "rowLimit": 10000
     },
     "inputWidgets": {},
     "nuid": "700cb1a9-1b0e-4cb5-b88c-c8eb042f000f",
     "showTitle": false,
     "title": ""
    }
   },
   "outputs": [],
   "source": [
    "%sql\n",
    "CREATE OR REPLACE TEMP VIEW ranked_categories AS\n",
    "SELECT\n",
    "  country,\n",
    "  category,\n",
    "  category_count,\n",
    "  ROW_NUMBER() OVER (PARTITION BY country ORDER BY category_count DESC) AS rank\n",
    "FROM\n",
    "  pin_geo_count;"
   ]
  },
  {
   "cell_type": "code",
   "execution_count": 0,
   "metadata": {
    "application/vnd.databricks.v1+cell": {
     "cellMetadata": {
      "byteLimit": 2048000,
      "implicitDf": true,
      "rowLimit": 10000
     },
     "inputWidgets": {},
     "nuid": "9ac753f1-b3b4-4c14-8dc3-6d400ad4e551",
     "showTitle": false,
     "title": ""
    }
   },
   "outputs": [],
   "source": [
    "%sql\n",
    "SELECT\n",
    "  country,\n",
    "  category,\n",
    "  category_count\n",
    "FROM\n",
    "  ranked_categories\n",
    "WHERE\n",
    "  rank = 1\n",
    "ORDER BY\n",
    "  category_count DESC;"
   ]
  }
 ],
 "metadata": {
  "application/vnd.databricks.v1+notebook": {
   "dashboards": [],
   "environmentMetadata": null,
   "language": "python",
   "notebookMetadata": {
    "mostRecentlyExecutedCommandWithImplicitDF": {
     "commandId": 4373899177780937,
     "dataframes": [
      "_sqldf"
     ]
    },
    "pythonIndentUnit": 4
   },
   "notebookName": "Popular Pin Category",
   "widgets": {}
  }
 },
 "nbformat": 4,
 "nbformat_minor": 0
}
