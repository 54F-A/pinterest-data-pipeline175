{
 "cells": [
  {
   "cell_type": "code",
   "execution_count": 0,
   "metadata": {
    "application/vnd.databricks.v1+cell": {
     "cellMetadata": {
      "byteLimit": 2048000,
      "rowLimit": 10000
     },
     "inputWidgets": {},
     "nuid": "7573fee3-f40a-47ad-8629-9aa60fa3515c",
     "showTitle": false,
     "title": ""
    }
   },
   "outputs": [],
   "source": [
    "from pyspark.sql import functions\n",
    "from pyspark.sql.functions import regexp_replace\n",
    "from pyspark.sql.types import IntegerType\n",
    "import pandas as pd\n",
    "import numpy as np\n",
    "\n",
    "\n",
    "# 1. Replace empty entries and entries with no relevant data in each column with Nones.\n",
    "df_pin = df_pin.na.replace([''], None)\n",
    "df_pin = df_pin.na.replace([float('nan')], None)\n",
    "df_pin = df_pin.na.replace(['User Info Error'], None)\n",
    "# 2. Ensure every entry for follower_count is a number. Make sure the data type of this column is an int.\n",
    "df_pin = df_pin.withColumn(\"follower_count\", regexp_replace(\"follower_count\", \"k\", \"000\"))\n",
    "df_pin = df_pin.withColumn(\"follower_count\", regexp_replace(\"follower_count\", \"M\", \"000000\"))\n",
    "df_pin = df_pin.withColumn(\"follower_count\", col(\"follower_count\").cast(\"int\"))\n",
    "# 3. Ensure that each column containing numeric data has a numeric data type\n",
    "df_pin = df_pin.withColumn(\"downloaded\", col(\"downloaded\").cast(\"int\"))\n",
    "df_pin = df_pin.withColumn(\"index\", col(\"index\").cast(\"int\"))\n",
    "# 4. Clean the data in the save_location column to include only the save location path.\n",
    "df_pin = df_pin.withColumn(\"save_location\", regexp_replace(\"save_location\", \"Local save in \", \"\"))\n",
    "# 5. Rename the index column to ind.\n",
    "df_pin = df_pin.withColumnRenamed(\"index\", \"ind\")\n",
    "# 6. Reorder the DataFrame columns.\n",
    "df_pin = df_pin.select(\"ind\", \"unique_id\", \"title\", \"description\", \"follower_count\", \"poster_name\", \"tag_list\", \"is_image_or_video\", \"image_src\", \"save_location\", \"category\", \"downloaded\")\n",
    "\n",
    "displayHTML(\"<h2>df_pin:</h2>\")\n",
    "display(df_pin)\n",
    "df_pin.printSchema()"
   ]
  }
 ],
 "metadata": {
  "application/vnd.databricks.v1+notebook": {
   "dashboards": [],
   "environmentMetadata": null,
   "language": "python",
   "notebookMetadata": {
    "mostRecentlyExecutedCommandWithImplicitDF": {
     "commandId": 3295293526896505,
     "dataframes": [
      "_sqldf"
     ]
    },
    "pythonIndentUnit": 4
   },
   "notebookName": "Clean Pinterest Posts DataFrame",
   "widgets": {}
  }
 },
 "nbformat": 4,
 "nbformat_minor": 0
}
