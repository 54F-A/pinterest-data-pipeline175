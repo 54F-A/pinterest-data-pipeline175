{
 "cells": [
  {
   "cell_type": "code",
   "execution_count": 0,
   "metadata": {
    "application/vnd.databricks.v1+cell": {
     "cellMetadata": {
      "byteLimit": 2048000,
      "rowLimit": 10000
     },
     "inputWidgets": {},
     "nuid": "5b7ace78-7094-429e-894f-8da2e758e400",
     "showTitle": false,
     "title": ""
    }
   },
   "outputs": [],
   "source": [
    "from pyspark.sql import functions\n",
    "from pyspark.sql.functions import regexp_replace\n",
    "from pyspark.sql.types import IntegerType\n",
    "import pandas as pd\n",
    "import numpy as np\n",
    "\n",
    "def process_latitude(latitude):\n",
    "    return when(latitude.rlike('^[0-9]+$'), latitude.cast(IntegerType())).otherwise(None)\n",
    "\n",
    "def process_longitude(longitude):\n",
    "    return when(longitude.rlike('^[0-9]+$'), longitude.cast(IntegerType())).otherwise(None)\n",
    "\n",
    "df_geo = df_geo.withColumn(\n",
    "    \"data\",\n",
    "    struct(\n",
    "        col(\"data.ind\").alias(\"ind\"),\n",
    "        # 1. Convert the timestamp column from a string to a timestamp data type\n",
    "        col(\"data.timestamp\").cast(TimestampType()).alias(\"timestamp\"),\n",
    "        col(\"data.latitude\").alias(\"latitude\"),\n",
    "        col(\"data.longitude\").alias(\"longitude\"),\n",
    "        col(\"data.country\").alias(\"country\"),\n",
    "        # 2. Create a new column 'coordinates' that contains an array based on the latitude and longitude columns\n",
    "        array(col(\"data.latitude\"), col(\"data.longitude\")).alias(\"coordinates\")\n",
    "    )\n",
    ")\n",
    "\n",
    "# 3. Reorder the DataFrame columns.\n",
    "df_geo = df_geo.select(\n",
    "    col(\"data.ind\").alias(\"ind\"),\n",
    "    col(\"data.country\").alias(\"country\"),\n",
    "    col(\"data.coordinates\").alias(\"coordinates\"),\n",
    "    col(\"data.timestamp\").alias(\"timestamp\")\n",
    ")\n",
    "\n",
    "display(df_geo)"
   ]
  }
 ],
 "metadata": {
  "application/vnd.databricks.v1+notebook": {
   "dashboards": [],
   "environmentMetadata": null,
   "language": "python",
   "notebookMetadata": {
    "mostRecentlyExecutedCommandWithImplicitDF": {
     "commandId": 616034210185202,
     "dataframes": [
      "_sqldf"
     ]
    },
    "pythonIndentUnit": 4
   },
   "notebookName": "Clean Geolocation Stream",
   "widgets": {}
  }
 },
 "nbformat": 4,
 "nbformat_minor": 0
}
