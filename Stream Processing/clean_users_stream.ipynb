{
 "cells": [
  {
   "cell_type": "code",
   "execution_count": 0,
   "metadata": {
    "application/vnd.databricks.v1+cell": {
     "cellMetadata": {
      "byteLimit": 2048000,
      "rowLimit": 10000
     },
     "inputWidgets": {},
     "nuid": "4f2f40e2-6b32-4d39-ad49-a2fd4a2b00fa",
     "showTitle": false,
     "title": ""
    }
   },
   "outputs": [],
   "source": [
    "from pyspark.sql import functions\n",
    "from pyspark.sql.functions import regexp_replace\n",
    "from pyspark.sql.types import IntegerType\n",
    "import pandas as pd\n",
    "import numpy as np\n",
    "\n",
    "\n",
    "df_user = df_user.withColumn(\n",
    "    \"data\",\n",
    "    struct(\n",
    "        col(\"data.ind\").alias(\"ind\"),\n",
    "        col(\"data.first_name\").alias(\"first_name\"),\n",
    "        col(\"data.last_name\").alias(\"last_name\"),\n",
    "        col(\"data.age\").alias(\"age\"),\n",
    "        # 1. Convert the date_joined column from a string to a timestamp data type\n",
    "        col(\"data.date_joined\").cast(TimestampType()).alias(\"date_joined\"),\n",
    "        # 2. Create a new column user_name that concatenates the information found in the first_name and last_name columns\n",
    "        concat(col(\"data.first_name\"), lit(\" \"), col(\"data.last_name\")).alias(\"user_name\")\n",
    "    )\n",
    ")\n",
    "\n",
    "# 3. Reorder the DataFrame columns.\n",
    "df_user = df_user.select(\n",
    "    col(\"data.ind\").alias(\"ind\"),\n",
    "    col(\"data.user_name\").alias(\"user_name\"),\n",
    "    col(\"data.age\").alias(\"age\"),\n",
    "    col(\"data.date_joined\").alias(\"date_joined\")\n",
    ")\n",
    "\n",
    "display(df_user)"
   ]
  }
 ],
 "metadata": {
  "application/vnd.databricks.v1+notebook": {
   "dashboards": [],
   "environmentMetadata": null,
   "language": "python",
   "notebookMetadata": {
    "mostRecentlyExecutedCommandWithImplicitDF": {
     "commandId": 616034210185212,
     "dataframes": [
      "_sqldf"
     ]
    },
    "pythonIndentUnit": 4
   },
   "notebookName": "Clean Users Stream",
   "widgets": {}
  }
 },
 "nbformat": 4,
 "nbformat_minor": 0
}
