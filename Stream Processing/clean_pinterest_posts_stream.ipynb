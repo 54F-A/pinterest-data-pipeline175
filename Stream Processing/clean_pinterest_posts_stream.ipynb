{
 "cells": [
  {
   "cell_type": "code",
   "execution_count": 0,
   "metadata": {
    "application/vnd.databricks.v1+cell": {
     "cellMetadata": {
      "byteLimit": 2048000,
      "rowLimit": 10000
     },
     "inputWidgets": {},
     "nuid": "7573fee3-f40a-47ad-8629-9aa60fa3515c",
     "showTitle": false,
     "title": ""
    }
   },
   "outputs": [],
   "source": [
    "from pyspark.sql import functions\n",
    "from pyspark.sql.functions import regexp_replace\n",
    "from pyspark.sql.types import IntegerType\n",
    "import pandas as pd\n",
    "import numpy as np\n",
    "\n",
    "\n",
    "# 1. Replace empty entries and entries with no relevant data in each column with Nones.\n",
    "def clean_struct_fields(df, struct_col, fields):\n",
    "    return df.withColumn(\n",
    "        struct_col,\n",
    "        struct(\n",
    "            *[\n",
    "                when(trim(col(f\"{struct_col}.{field}\")) == \"\", lit(None))\n",
    "                .otherwise(col(f\"{struct_col}.{field}\"))\n",
    "                .alias(field)\n",
    "                for field in fields\n",
    "            ]\n",
    "        )\n",
    "    )\n",
    "\n",
    "fields_to_clean = [\n",
    "    \"index\",\n",
    "    \"unique_id\",\n",
    "    \"title\",\n",
    "    \"description\",\n",
    "    \"poster_name\",\n",
    "    \"follower_count\",\n",
    "    \"tag_list\",\n",
    "    \"is_image_or_video\",\n",
    "    \"image_src\",\n",
    "    \"downloaded\",\n",
    "    \"save_location\",\n",
    "    \"category\"\n",
    "]\n",
    "\n",
    "df_pin = clean_struct_fields(df_pin, \"data\", fields_to_clean)\n",
    "\n",
    "# 2. Ensure every entry for follower_count is a number. Make sure the data type of this column is an int.\n",
    "def process_follower_count(follower_count):\n",
    "    replaced_col = regexp_replace(follower_count, \"k\", \"000\")\n",
    "    replaced_col = regexp_replace(replaced_col, \"M\", \"000000\")\n",
    "    return when(replaced_col.rlike('^[0-9]+$'), replaced_col.cast(IntegerType())).otherwise(None)\n",
    "\n",
    "# 3. Ensure that each column containing numeric data has a numeric data type.\n",
    "def process_downloaded(downloaded):\n",
    "    return when(downloaded.rlike('^[0-9]+$'), downloaded.cast(IntegerType())).otherwise(None)\n",
    "\n",
    "df_pin = df_pin.withColumn(\n",
    "    \"data\",\n",
    "    struct(\n",
    "        # 5. Rename the index column to ind.\n",
    "        col(\"data.index\").alias(\"ind\"),\n",
    "        col(\"data.unique_id\").alias(\"unique_id\"),\n",
    "        col(\"data.title\").alias(\"title\"),\n",
    "        col(\"data.description\").alias(\"description\"),\n",
    "        col(\"data.poster_name\").alias(\"poster_name\"),\n",
    "        process_follower_count(col(\"data.follower_count\")).alias(\"follower_count\"),\n",
    "        col(\"data.tag_list\").alias(\"tag_list\"),\n",
    "        col(\"data.is_image_or_video\").alias(\"is_image_or_video\"),\n",
    "        col(\"data.image_src\").alias(\"image_src\"),\n",
    "        process_downloaded(col(\"data.downloaded\")).alias(\"downloaded\"),\n",
    "        # 4. Clean the data in the save_location column to include only the save location path.\n",
    "        regexp_replace(col(\"data.save_location\"), \"Local save in \", \"\").alias(\"save_location\"),\n",
    "        col(\"data.category\").alias(\"category\")\n",
    "    )\n",
    ")\n",
    "\n",
    "# 6. Reorder the DataFrame columns.\n",
    "df_pin = df_pin.select(\n",
    "    col(\"data.ind\").alias(\"ind\"),\n",
    "    col(\"data.unique_id\").alias(\"unique_id\"),\n",
    "    col(\"data.title\").alias(\"title\"),\n",
    "    col(\"data.description\").alias(\"description\"),\n",
    "    col(\"data.follower_count\").alias(\"follower_count\"),\n",
    "    col(\"data.poster_name\").alias(\"poster_name\"),\n",
    "    col(\"data.tag_list\").alias(\"tag_list\"),\n",
    "    col(\"data.is_image_or_video\").alias(\"is_image_or_video\"),\n",
    "    col(\"data.image_src\").alias(\"image_src\"),\n",
    "    col(\"data.save_location\").alias(\"save_location\"),\n",
    "    col(\"data.category\").alias(\"category\"),\n",
    "    col(\"data.downloaded\").alias(\"downloaded\")\n",
    ")\n",
    "\n",
    "display(df_pin)"
   ]
  }
 ],
 "metadata": {
  "application/vnd.databricks.v1+notebook": {
   "dashboards": [],
   "environmentMetadata": null,
   "language": "python",
   "notebookMetadata": {
    "mostRecentlyExecutedCommandWithImplicitDF": {
     "commandId": 3295293526896505,
     "dataframes": [
      "_sqldf"
     ]
    },
    "pythonIndentUnit": 4
   },
   "notebookName": "Clean Pinterest Posts Stream",
   "widgets": {}
  }
 },
 "nbformat": 4,
 "nbformat_minor": 0
}
