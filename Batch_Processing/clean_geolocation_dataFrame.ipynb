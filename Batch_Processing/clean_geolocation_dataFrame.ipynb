{
 "cells": [
  {
   "cell_type": "code",
   "execution_count": 0,
   "metadata": {
    "application/vnd.databricks.v1+cell": {
     "cellMetadata": {},
     "inputWidgets": {},
     "nuid": "430085f3-218c-41f0-a5a6-62b19f3cad81",
     "showTitle": false,
     "title": ""
    }
   },
   "outputs": [],
   "source": [
    "from pyspark.sql import functions\n",
    "from pyspark.sql.functions import col\n",
    "\n",
    "\n",
    "# 1. Create a new column 'coordinates' that contains an array based on the latitude and longitude columns\n",
    "def coordinates_column(df, col_1, col_2, new_col_name):\n",
    "    df = df.withColumn(new_col_name, functions.array(col_1, col_2))\n",
    "    return df\n",
    "\n",
    "df_geo = coordinates_column(df_geo, \"latitude\", \"longitude\", \"coordinates\")\n",
    "# 2. Drop the latitude and longitude columns from the DataFrame\n",
    "def drop_columns(df, cols_to_drop):\n",
    "    df = df.drop(*cols_to_drop)\n",
    "    return df\n",
    "\n",
    "df_geo = drop_columns(df_geo, [\"latitude\", \"longitude\"])\n",
    "# 3. Convert the timestamp column from a string to a timestamp data type\n",
    "def string_to_timestamp(df, col_name, data_type):\n",
    "    df = df.withColumn(col_name, col(col_name).cast(data_type))\n",
    "    return df\n",
    "\n",
    "df_geo = string_to_timestamp(df_geo, \"timestamp\", \"timestamp\")\n",
    "# 4. Reorder the DataFrame columns to have the following column order\n",
    "df_geo = df_geo.select(\n",
    "    \"ind\", \n",
    "    \"country\", \n",
    "    \"coordinates\", \n",
    "    \"timestamp\"\n",
    ")\n",
    "\n",
    "df_geo.printSchema()"
   ]
  }
 ],
 "metadata": {
  "application/vnd.databricks.v1+notebook": {
   "dashboards": [],
   "environmentMetadata": null,
   "language": "python",
   "notebookMetadata": {
    "mostRecentlyExecutedCommandWithImplicitDF": {
     "commandId": 616034210185202,
     "dataframes": [
      "_sqldf"
     ]
    },
    "pythonIndentUnit": 4
   },
   "notebookName": "Clean Geolocation DataFrame",
   "widgets": {}
  }
 },
 "nbformat": 4,
 "nbformat_minor": 0
}
