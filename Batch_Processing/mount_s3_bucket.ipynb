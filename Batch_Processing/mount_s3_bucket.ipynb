{
 "cells": [
  {
   "cell_type": "code",
   "execution_count": 0,
   "metadata": {
    "application/vnd.databricks.v1+cell": {
     "cellMetadata": {},
     "inputWidgets": {},
     "nuid": "d452ba01-7f8a-4e88-8834-52c713da4c4a",
     "showTitle": false,
     "title": ""
    }
   },
   "outputs": [],
   "source": [
    "%run \n",
    "\"/Users/sarfaraj_ahmed@outlook.com/Authentication\""
   ]
  },
  {
   "cell_type": "code",
   "execution_count": 0,
   "metadata": {
    "application/vnd.databricks.v1+cell": {
     "cellMetadata": {
      "byteLimit": 2048000,
      "rowLimit": 10000
     },
     "inputWidgets": {},
     "nuid": "d4c705e4-7d18-4536-89f9-76f474ee507e",
     "showTitle": false,
     "title": ""
    }
   },
   "outputs": [],
   "source": [
    "AWS_S3_BUCKET = \"user-12aa97d84d77-bucket\"\n",
    "MOUNT_NAME = \"/mnt/user-12aa97d84d77-bucket\"\n",
    "SOURCE_URL = \"s3n://{0}:{1}@{2}\".format(ACCESS_KEY, ENCODED_SECRET_KEY, AWS_S3_BUCKET)\n",
    "\n",
    "dbutils.fs.mount(SOURCE_URL, MOUNT_NAME)"
   ]
  },
  {
   "cell_type": "code",
   "execution_count": 0,
   "metadata": {
    "application/vnd.databricks.v1+cell": {
     "cellMetadata": {
      "byteLimit": 2048000,
      "implicitDf": true,
      "rowLimit": 10000
     },
     "inputWidgets": {},
     "nuid": "2af7c126-0a87-433c-a697-36445071e519",
     "showTitle": false,
     "title": ""
    }
   },
   "outputs": [],
   "source": [
    "%sql\n",
    "SET spark.databricks.delta.formatCheck.enabled=false"
   ]
  },
  {
   "cell_type": "code",
   "execution_count": 0,
   "metadata": {
    "application/vnd.databricks.v1+cell": {
     "cellMetadata": {
      "byteLimit": 2048000,
      "implicitDf": true,
      "rowLimit": 10000
     },
     "inputWidgets": {},
     "nuid": "a1766d12-3903-4b9f-a661-c1f8c56261ee",
     "showTitle": false,
     "title": ""
    }
   },
   "outputs": [],
   "source": [
    "\n",
    "\n",
    "\n",
    "file_type = \"json\"\n",
    "infer_schema = \"true\"\n",
    "file_location1 = \"/mnt/user-12aa97d84d77-bucket/topics/12aa97d84d77.pin/partition=0/*.json\" \n",
    "file_location2 = \"/mnt/user-12aa97d84d77-bucket/topics/12aa97d84d77.geo/partition=0/*.json\"\n",
    "file_location3 = \"/mnt/user-12aa97d84d77-bucket/topics/12aa97d84d77.user/partition=0/*.json\" \n",
    "\n",
    "def read_json_from_s3(spark: SparkSession, file_type: str, infer_schema: str, file_location: str):\n",
    "    df = spark.read.format(file_type) \\\n",
    "        .option(\"inferSchema\", infer_schema) \\\n",
    "        .load(file_location)\n",
    "    return df\n",
    "\n",
    "df_pin = read_json_from_s3(spark, file_type, infer_schema, file_location1)\n",
    "df_geo = read_json_from_s3(spark, file_type, infer_schema, file_location2)\n",
    "df_user = read_json_from_s3(spark, file_type, infer_schema, file_location3)"
   ]
  }
 ],
 "metadata": {
  "application/vnd.databricks.v1+notebook": {
   "dashboards": [],
   "environmentMetadata": null,
   "language": "python",
   "notebookMetadata": {
    "mostRecentlyExecutedCommandWithImplicitDF": {
     "commandId": 3295293526896464,
     "dataframes": [
      "_sqldf"
     ]
    },
    "pythonIndentUnit": 4
   },
   "notebookName": "Mount S3 Bucket",
   "widgets": {}
  }
 },
 "nbformat": 4,
 "nbformat_minor": 0
}
