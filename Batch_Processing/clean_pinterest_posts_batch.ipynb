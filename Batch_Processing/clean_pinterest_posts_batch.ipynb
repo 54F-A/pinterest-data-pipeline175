{
 "cells": [
  {
   "cell_type": "code",
   "execution_count": 0,
   "metadata": {
    "application/vnd.databricks.v1+cell": {
     "cellMetadata": {
      "byteLimit": 2048000,
      "rowLimit": 10000
     },
     "inputWidgets": {},
     "nuid": "df7be95b-1253-41cd-ba45-5ccd85642132",
     "showTitle": false,
     "title": ""
    }
   },
   "outputs": [],
   "source": [
    "from pyspark.sql import functions\n",
    "from pyspark.sql.functions import col, regexp_replace\n",
    "from pyspark.sql.types import IntegerType\n",
    "\n",
    "\n",
    "# 1. Replace empty entries and entries with no relevant data in each column with Nones.\n",
    "replacements = {\n",
    "    \"follower_count\": [\"\", float('nan'), \"User Info Error\"],\n",
    "    \"poster_name\": [\"\", float('nan'), \"User Info Error\"],\n",
    "    \"description\": [\"\", float('nan'), \"User Info Error\"],\n",
    "    \"tag_list\": [\"\", float('nan'), \"User Info Error\"],\n",
    "    \"save_location\": [\"\", float('nan'), \"User Info Error\"],\n",
    "}\n",
    "\n",
    "def replace_values(df, replacements):\n",
    "    for col_name, replace_values in replacements.items():\n",
    "        for value in replace_values:\n",
    "            df = df.na.replace(value, None, subset=[col_name])\n",
    "    return df\n",
    "\n",
    "df_pin = replace_values(df_pin, replacements)\n",
    "# 2. Ensure every entry for follower_count is a number. Make sure the data type of this column is an int.\n",
    "def convert_follower_count(df):\n",
    "    df = df.withColumn(\"follower_count\", regexp_replace(\"follower_count\", \"k\", \"000\"))\n",
    "    df = df.withColumn(\"follower_count\", regexp_replace(\"follower_count\", \"M\", \"000000\"))\n",
    "    df = df.withColumn(\"follower_count\", col(\"follower_count\").cast(\"int\"))\n",
    "    return df\n",
    "\n",
    "df_pin = convert_follower_count(df_pin)\n",
    "# 3. Ensure that each column containing numeric data has a numeric data type\n",
    "numeric_columns = [\"downloaded\", \"index\"]\n",
    "\n",
    "for col_name in numeric_columns:\n",
    "    df_pin = df_pin.withColumn(col_name, col(col_name).cast(IntegerType()))\n",
    "# 4. Clean the data in the save_location column to include only the save location path.\n",
    "df_pin = df_pin.withColumn(\"save_location\", regexp_replace(\"save_location\", \"Local save in \", \"\"))\n",
    "# 5. Rename the index column to ind.\n",
    "df_pin = df_pin.withColumnRenamed(\"index\", \"ind\")\n",
    "# 6. Reorder the DataFrame columns.\n",
    "df_pin = df_pin.select(\n",
    "    \"ind\", \n",
    "    \"unique_id\", \n",
    "    \"title\", \n",
    "    \"description\", \n",
    "    \"follower_count\", \n",
    "    \"poster_name\", \n",
    "    \"tag_list\", \n",
    "    \"is_image_or_video\", \n",
    "    \"image_src\", \n",
    "    \"save_location\", \n",
    "    \"category\", \n",
    "    \"downloaded\"\n",
    ")\n",
    "\n",
    "df_pin.printSchema()"
   ]
  }
 ],
 "metadata": {
  "application/vnd.databricks.v1+notebook": {
   "dashboards": [],
   "environmentMetadata": null,
   "language": "python",
   "notebookMetadata": {
    "mostRecentlyExecutedCommandWithImplicitDF": {
     "commandId": 3295293526896505,
     "dataframes": [
      "_sqldf"
     ]
    },
    "pythonIndentUnit": 4
   },
   "notebookName": "Clean Pinterest Posts DataFrame",
   "widgets": {}
  }
 },
 "nbformat": 4,
 "nbformat_minor": 0
}
