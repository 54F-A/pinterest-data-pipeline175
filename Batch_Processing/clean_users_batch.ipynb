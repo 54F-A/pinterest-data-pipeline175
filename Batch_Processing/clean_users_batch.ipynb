{
 "cells": [
  {
   "cell_type": "code",
   "execution_count": 0,
   "metadata": {
    "application/vnd.databricks.v1+cell": {
     "cellMetadata": {},
     "inputWidgets": {},
     "nuid": "9431d77d-5e98-4395-8642-8cc5dd7f22a0",
     "showTitle": false,
     "title": ""
    }
   },
   "outputs": [],
   "source": [
    "from pyspark.sql import functions\n",
    "from pyspark.sql.functions import col, lit\n",
    "\n",
    "\n",
    "# 1. Create a new column user_name that concatenates the information found in the first_name and last_name columns\n",
    "def full_name_column(df, new_col_name, col1, col2, separator=\" \"):\n",
    "    df = df.withColumn(new_col_name, functions.concat(col(col1), lit(separator), col(col2)))\n",
    "    return df\n",
    "\n",
    "df_user = full_name_column(df_user, \"user_name\", \"first_name\", \"last_name\")\n",
    "# 2. Drop the first_name and last_name columns from the DataFrame\n",
    "def drop_columns(df, cols_to_drop):\n",
    "    df = df.drop(*cols_to_drop)\n",
    "    return df\n",
    "\n",
    "df_user = drop_columns(df_user, [\"first_name\", \"last_name\"])\n",
    "# 3. Convert the date_joined column from a string to a timestamp data type\n",
    "def string_to_timestamp(df, col_name, data_type):\n",
    "    df = df.withColumn(col_name, col(col_name).cast(data_type))\n",
    "    return df\n",
    "\n",
    "df_user = string_to_timestamp(df_user, \"date_joined\", \"timestamp\")\n",
    "# 4. Reorder the DataFrame columns to have the following column order:\n",
    "df_user = df_user.select(\n",
    "    \"ind\", \n",
    "    \"user_name\", \n",
    "    \"age\", \n",
    "    \"date_joined\"\n",
    ")\n",
    "\n",
    "df_user.printSchema()"
   ]
  }
 ],
 "metadata": {
  "application/vnd.databricks.v1+notebook": {
   "dashboards": [],
   "environmentMetadata": null,
   "language": "python",
   "notebookMetadata": {
    "mostRecentlyExecutedCommandWithImplicitDF": {
     "commandId": 616034210185212,
     "dataframes": [
      "_sqldf"
     ]
    },
    "pythonIndentUnit": 4
   },
   "notebookName": "Clean Users DataFrame",
   "widgets": {}
  }
 },
 "nbformat": 4,
 "nbformat_minor": 0
}
